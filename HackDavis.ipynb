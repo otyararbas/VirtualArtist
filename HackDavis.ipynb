{
 "cells": [
  {
   "cell_type": "code",
   "execution_count": 1,
   "metadata": {},
   "outputs": [],
   "source": [
    "\n"
   ]
  },
  {
   "cell_type": "code",
   "execution_count": 1,
   "metadata": {},
   "outputs": [],
   "source": [
    "def dist(a, b):\n",
    "    try:\n",
    "        return abs(640*(1-a.x)-b.x) + abs(640*(1-a.y)-b.y)\n",
    "    except:\n",
    "        return abs(a.x-b[0]) + abs(a.y-b[1])\n"
   ]
  },
  {
   "cell_type": "code",
   "execution_count": null,
   "metadata": {},
   "outputs": [
    {
     "name": "stderr",
     "output_type": "stream",
     "text": [
      "INFO: Created TensorFlow Lite XNNPACK delegate for CPU.\n"
     ]
    }
   ],
   "source": [
    "try:\n",
    "  import mediapipe as mp\n",
    "except:\n",
    "  !pip install mediapipe\n",
    "  import mediapipe as mp\n",
    "import numpy as np\n",
    "import cv2 as cv\n",
    "mpHands = mp.solutions.hands\n",
    "hands = mpHands.Hands()\n",
    "mpDraw = mp.solutions.drawing_utils\n",
    "cap = cv.VideoCapture(0)\n",
    "bbox_array = np.zeros([480,640,3], dtype=np.uint8)\n",
    "bbox_array.fill(255)\n",
    "point = (0,0)\n",
    "color = (0,0,0)\n",
    "size = 5\n",
    "for i in range(0, 10):\n",
    "    bbox_array[48 * i : 48 * (i + 1), : 10] = np.array([[[25.5*(i),0,0]]*10]*48)\n",
    "for i in range(0, 10):\n",
    "    bbox_array[48 * i : 48 * (i + 1),(-10) :] = np.array([[[0,25.5*(i),0]]*10]*48)\n",
    "for i in range(0, 10):\n",
    "    bbox_array[:20, 320 + 32 * i : 320 + 32 * (i + 1)] = np.array([[[0, 0, 25.5*(i)]]*32]*20)\n",
    "cv.circle(bbox_array, (33,5), 4, (255, 0, 0), -1)\n",
    "cv.circle(bbox_array, (33,15), 4, (255, 0, 0), -1)\n",
    "bbox_array[:20, 53] = [[0, 0, 255]]*20\n",
    "cv.circle(bbox_array, (115,10), 5, (0, 0, 0), -1)\n",
    "cv.circle(bbox_array, (183,10), 7, (0, 0, 0), -1)\n",
    "cv.circle(bbox_array, (255,10), 9, (0, 0, 0), -1)\n",
    "cir = False\n",
    "arr = bbox_array.copy()\n",
    "while True:\n",
    "    first = True\n",
    "    bbox_array = arr\n",
    "    istrue, frame = cap.read()\n",
    "    imgRGB = cv.cvtColor(frame, cv.COLOR_BGR2RGB)\n",
    "    results = hands.process(imgRGB)\n",
    "    if results.multi_hand_landmarks:\n",
    "        for handLms in results.multi_hand_landmarks:\n",
    "            if int(handLms.landmark[mpHands.HandLandmark.INDEX_FINGER_TIP].y*479.9999) > 20 and 10 <= int(639.9999*(1-handLms.landmark[mpHands.HandLandmark.INDEX_FINGER_TIP].x)) <= 630:\n",
    "                mpDraw.draw_landmarks(frame, handLms)\n",
    "                if ((handLms.landmark[mpHands.HandLandmark.INDEX_FINGER_MCP].y >= handLms.landmark[mpHands.HandLandmark.INDEX_FINGER_TIP].y) == (handLms.landmark[mpHands.HandLandmark.INDEX_FINGER_MCP].y <= handLms.landmark[mpHands.HandLandmark.WRIST].y) and not (((handLms.landmark[mpHands.HandLandmark.MIDDLE_FINGER_MCP].y >= handLms.landmark[mpHands.HandLandmark.MIDDLE_FINGER_TIP].y) == (handLms.landmark[mpHands.HandLandmark.MIDDLE_FINGER_MCP].y <= handLms.landmark[mpHands.HandLandmark.WRIST].y)) and (handLms.landmark[mpHands.HandLandmark.RING_FINGER_MCP].y >= handLms.landmark[mpHands.HandLandmark.RING_FINGER_TIP].y) == (handLms.landmark[mpHands.HandLandmark.RING_FINGER_MCP].y <= handLms.landmark[mpHands.HandLandmark.WRIST].y))):\n",
    "                    if point != (0,0):\n",
    "                        if not cir:\n",
    "                            cv.line(bbox_array, point, (int(639.9999*(1-handLms.landmark[mpHands.HandLandmark.INDEX_FINGER_TIP].x)),int(handLms.landmark[mpHands.HandLandmark.INDEX_FINGER_TIP].y*479.9999)),color,size)\n",
    "                        else:\n",
    "                            cv.circle(bbox_array, ((int(639.9999*(1-handLms.landmark[mpHands.HandLandmark.INDEX_FINGER_TIP].x)),int(handLms.landmark[mpHands.HandLandmark.INDEX_FINGER_TIP].y*479.9999))), size, color, -1)\n",
    "                    point = (int(639.9999*(1-handLms.landmark[mpHands.HandLandmark.INDEX_FINGER_TIP].x)),int(handLms.landmark[mpHands.HandLandmark.INDEX_FINGER_TIP].y*479.9999))\n",
    "                if ((handLms.landmark[mpHands.HandLandmark.MIDDLE_FINGER_MCP].y >= handLms.landmark[mpHands.HandLandmark.MIDDLE_FINGER_TIP].y) == (handLms.landmark[mpHands.HandLandmark.MIDDLE_FINGER_MCP].y <= handLms.landmark[mpHands.HandLandmark.WRIST].y) and (handLms.landmark[mpHands.HandLandmark.RING_FINGER_MCP].y >= handLms.landmark[mpHands.HandLandmark.RING_FINGER_TIP].y) == (handLms.landmark[mpHands.HandLandmark.RING_FINGER_MCP].y <= handLms.landmark[mpHands.HandLandmark.WRIST].y)):\n",
    "                    cv.circle(bbox_array, ((int(639.9999*(1-handLms.landmark[mpHands.HandLandmark.INDEX_FINGER_TIP].x)),int(handLms.landmark[mpHands.HandLandmark.INDEX_FINGER_TIP].y*479.9999))), (10), (255,255,255), -1)\n",
    "                    cv.circle(bbox_array, ((int(639.9999*(1-handLms.landmark[mpHands.HandLandmark.INDEX_FINGER_TIP].x)),int(handLms.landmark[mpHands.HandLandmark.MIDDLE_FINGER_TIP].y*479.9999))), (10), (255,255,255), -1)\n",
    "            else:\n",
    "                if int(handLms.landmark[mpHands.HandLandmark.INDEX_FINGER_TIP].y*479.9999) < 20 and int(639.9999*(1-handLms.landmark[mpHands.HandLandmark.INDEX_FINGER_TIP].x)) < 320: \n",
    "                    if 10 < int(639.9999*(1-handLms.landmark[mpHands.HandLandmark.INDEX_FINGER_TIP].x)) <= 40:\n",
    "                        cir = True\n",
    "                        point = (0,0)\n",
    "                    elif 40 < int(639.9999*(1-handLms.landmark[mpHands.HandLandmark.INDEX_FINGER_TIP].x)) <= 90:\n",
    "                        cir = False\n",
    "                        point = (0,0)\n",
    "                    elif 90 < int(639.9999*(1-handLms.landmark[mpHands.HandLandmark.INDEX_FINGER_TIP].x)) <= 147:\n",
    "                        size = 5\n",
    "                    elif 147 < int(639.9999*(1-handLms.landmark[mpHands.HandLandmark.INDEX_FINGER_TIP].x)) <= 218:\n",
    "                        size = 7\n",
    "                    elif 218 < int(639.9999*(1-handLms.landmark[mpHands.HandLandmark.INDEX_FINGER_TIP].x)) <= 320:\n",
    "                        size = 9\n",
    "                else:\n",
    "                    try:\n",
    "                        a = tuple(bbox_array[int(handLms.landmark[mpHands.HandLandmark.INDEX_FINGER_TIP].y*479.9999), int(639*(1-handLms.landmark[mpHands.HandLandmark.INDEX_FINGER_TIP].x))])\n",
    "                        color = (int(a[0]), int(a[1]), int(a[2]))\n",
    "                    except:\n",
    "                        pass\n",
    "    arr = bbox_array.copy()\n",
    "    imgRGB = cv.cvtColor(frame, cv.COLOR_BGR2RGB)\n",
    "    results = hands.process(imgRGB)\n",
    "    if results.multi_hand_landmarks:\n",
    "        for handLms in results.multi_hand_landmarks:\n",
    "            cv.circle(bbox_array, ((int(639.9999*(1-handLms.landmark[mpHands.HandLandmark.INDEX_FINGER_TIP].x)),int(handLms.landmark[mpHands.HandLandmark.INDEX_FINGER_TIP].y*479.9999))), (5), (200,200,200), -1)\n",
    "    \n",
    "    cv.imshow('arr', bbox_array)\n",
    "    cv.imshow('cam', frame)\n",
    "    if cv.waitKey(1) & 0xFF == ord('q'):\n",
    "        break\n",
    "cv.destroyAllWindows()\n",
    "\n"
   ]
  },
  {
   "cell_type": "code",
   "execution_count": null,
   "metadata": {},
   "outputs": [],
   "source": []
  },
  {
   "cell_type": "code",
   "execution_count": null,
   "metadata": {},
   "outputs": [],
   "source": []
  },
  {
   "cell_type": "code",
   "execution_count": null,
   "metadata": {},
   "outputs": [],
   "source": []
  }
 ],
 "metadata": {
  "kernelspec": {
   "display_name": "Python 3 (ipykernel)",
   "language": "python",
   "name": "python3"
  },
  "language_info": {
   "codemirror_mode": {
    "name": "ipython",
    "version": 3
   },
   "file_extension": ".py",
   "mimetype": "text/x-python",
   "name": "python",
   "nbconvert_exporter": "python",
   "pygments_lexer": "ipython3",
   "version": "3.11.3"
  }
 },
 "nbformat": 4,
 "nbformat_minor": 2
}
